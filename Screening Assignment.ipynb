{
 "cells": [
  {
   "cell_type": "raw",
   "id": "7c4505b1",
   "metadata": {},
   "source": [
    "1. Create a function in python to read the text file and replace specific content\n",
    "of the file.\n",
    "File name--------------------------example.txt\n",
    "Origin file content----------------This is a placement assignment\n",
    "Replace string Placement-----------should be replaced byscreening.\n",
    "Replaced file content--------------This is a screening assignment"
   ]
  },
  {
   "cell_type": "code",
   "execution_count": 12,
   "id": "417c50e6",
   "metadata": {},
   "outputs": [],
   "source": [
    "with open('example.txt','w') as f:\n",
    "    f.write('This is a placement assignment')"
   ]
  },
  {
   "cell_type": "code",
   "execution_count": 17,
   "id": "2b3f3f28",
   "metadata": {},
   "outputs": [
    {
     "name": "stdout",
     "output_type": "stream",
     "text": [
      "This is a placement assignment\n"
     ]
    }
   ],
   "source": [
    "with open('example.txt','r') as f:\n",
    "    read_data=f.read()\n",
    "    print(read_data)"
   ]
  },
  {
   "cell_type": "code",
   "execution_count": 20,
   "id": "5e02bac4",
   "metadata": {},
   "outputs": [],
   "source": [
    "read_data=read_data.replace('placement','screening')"
   ]
  },
  {
   "cell_type": "code",
   "execution_count": 21,
   "id": "bfbe92f0",
   "metadata": {},
   "outputs": [
    {
     "name": "stdout",
     "output_type": "stream",
     "text": [
      "This is a screening assignment\n"
     ]
    }
   ],
   "source": [
    "with open('example.txt','r+') as f:\n",
    "    f.write(read_data)\n",
    "    print(read_data)"
   ]
  },
  {
   "cell_type": "raw",
   "id": "226c821e",
   "metadata": {},
   "source": [
    "2. Demonstrate use of abstract class, multiple inheritance and decorator in\n",
    "python using examples."
   ]
  },
  {
   "cell_type": "code",
   "execution_count": 25,
   "id": "1d92aa8b",
   "metadata": {},
   "outputs": [],
   "source": [
    "# Abstract class"
   ]
  },
  {
   "cell_type": "markdown",
   "id": "f6ae20fb",
   "metadata": {},
   "source": [
    "An abstract class can be considered as a blueprint for other classes.An Abstract is a class that generally contains some abstract methods, whose implementation is later defined in the sub classes as per the requirement of objects.\n",
    "To Create an abstract class is to derive it from a meta class ABC that belongs to abc(abstract base class) module, we should import this module into our program. A meta class is a class that defines the behaviour of other classes. The meta class ABC defines that the class which is derived from it becomes an abstract class."
   ]
  },
  {
   "cell_type": "code",
   "execution_count": 22,
   "id": "09c1725f",
   "metadata": {},
   "outputs": [],
   "source": [
    "#abstract classs example\n",
    "from abc import ABC,abstractmethod\n",
    "class Myclass(ABC):\n",
    "    @abstractmethod\n",
    "    def calculate(self,x):\n",
    "        pass #empty body, no code\n",
    "\n",
    "#sub class of Myclass\n",
    "class sub_class(Myclass):\n",
    "    def calculate(self,x):\n",
    "        print('Square value= ',x*x)    "
   ]
  },
  {
   "cell_type": "code",
   "execution_count": 23,
   "id": "622303ff",
   "metadata": {},
   "outputs": [
    {
     "name": "stdout",
     "output_type": "stream",
     "text": [
      "Square value=  25\n"
     ]
    }
   ],
   "source": [
    "obj=sub_class()\n",
    "obj.calculate(5)"
   ]
  },
  {
   "cell_type": "code",
   "execution_count": 24,
   "id": "64879802",
   "metadata": {},
   "outputs": [],
   "source": [
    "# Multiple Inheritence"
   ]
  },
  {
   "cell_type": "markdown",
   "id": "a3babea0",
   "metadata": {},
   "source": [
    "Deriving subclasses from multiple base classes is callled multiple inheritance. In this type of inheritance, there will be more than one super class and there may be one or more sub classes. All the members of the super classes are by default available to sub classes and the sub classes in turn can have their own members."
   ]
  },
  {
   "cell_type": "code",
   "execution_count": 4,
   "id": "35558877",
   "metadata": {},
   "outputs": [
    {
     "name": "stdout",
     "output_type": "stream",
     "text": [
      "Child's inherited qualities\n",
      "Height is 6.0 foot\n",
      "Color is brown\n"
     ]
    }
   ],
   "source": [
    "#multiple inheritance\n",
    "class Father:\n",
    "    def height(self):\n",
    "        print('Height is 6.0 foot')\n",
    "\n",
    "class Mother:\n",
    "    def color(self):\n",
    "        print('Color is brown')\n",
    "\n",
    "class Child(Father,Mother):\n",
    "    pass\n",
    "\n",
    "c=Child()\n",
    "print('Child\\'s inherited qualities')\n",
    "c.height()\n",
    "c.color()"
   ]
  },
  {
   "cell_type": "code",
   "execution_count": null,
   "id": "6d014a75",
   "metadata": {},
   "outputs": [],
   "source": [
    "#Decorator"
   ]
  },
  {
   "cell_type": "markdown",
   "id": "a73ea0ef",
   "metadata": {},
   "source": [
    "A Python decorator is a function that takes in a function, adds some functionality to it and returns the original function. Decorators allow us to wrap another function in order to extend the behaviour of the wrapped function, without permanently modifying it."
   ]
  },
  {
   "cell_type": "code",
   "execution_count": 17,
   "id": "20ce7617",
   "metadata": {},
   "outputs": [
    {
     "name": "stdout",
     "output_type": "stream",
     "text": [
      "Executing printer function\n",
      "Hello world\n",
      "Finished Execution\n"
     ]
    }
   ],
   "source": [
    "def display_info(func):\n",
    "    \n",
    "    def inner():\n",
    "        print('Executing',func.__name__,'function')\n",
    "        func()\n",
    "        print('Finished Execution')\n",
    "    return inner\n",
    "@display_info\n",
    "def printer():\n",
    "    print('Hello world')\n",
    "printer()"
   ]
  }
 ],
 "metadata": {
  "interpreter": {
   "hash": "5b6ce43b0743ffcb9a9d4b69a5d2c5c6cec50b541215e95ef4b9c7070ee826f7"
  },
  "kernelspec": {
   "display_name": "Python 3.10.4 64-bit",
   "language": "python",
   "name": "python3"
  },
  "language_info": {
   "codemirror_mode": {
    "name": "ipython",
    "version": 3
   },
   "file_extension": ".py",
   "mimetype": "text/x-python",
   "name": "python",
   "nbconvert_exporter": "python",
   "pygments_lexer": "ipython3",
   "version": "3.10.4"
  }
 },
 "nbformat": 4,
 "nbformat_minor": 5
}
